{
  "nbformat": 4,
  "nbformat_minor": 0,
  "metadata": {
    "colab": {
      "name": "Untitled3.ipynb",
      "provenance": [],
      "authorship_tag": "ABX9TyPM+amxYxzHBrtZkoQn/hRh",
      "include_colab_link": true
    },
    "kernelspec": {
      "name": "python3",
      "display_name": "Python 3"
    },
    "language_info": {
      "name": "python"
    }
  },
  "cells": [
    {
      "cell_type": "markdown",
      "metadata": {
        "id": "view-in-github",
        "colab_type": "text"
      },
      "source": [
        "<a href=\"https://colab.research.google.com/github/AdamMcCloskey381/RTA_project/blob/main/MLPR_flask.ipynb\" target=\"_parent\"><img src=\"https://colab.research.google.com/assets/colab-badge.svg\" alt=\"Open In Colab\"/></a>"
      ]
    },
    {
      "cell_type": "code",
      "execution_count": null,
      "metadata": {
        "id": "TPBVtsUJMtk8"
      },
      "outputs": [],
      "source": [
        "import pandas as pd\n",
        "import numpy as np\n",
        "from sklearn.neural_network import MLPRegressor\n",
        "from sklearn.metrics import r2_score\n",
        "from sklearn.model_selection import train_test_split"
      ]
    },
    {
      "cell_type": "code",
      "source": [
        "### załadowanie danych\n",
        "df = pd.DataFrame()\n",
        "for i in range(118, 1555):\n",
        "  try:\n",
        "    df1 = pd.read_csv(\"biegi_{}.csv\".format(i))\n",
        "    df = df.append(df1)\n",
        "  except:\n",
        "    pass"
      ],
      "metadata": {
        "id": "YOTKFNq2Mzyf"
      },
      "execution_count": null,
      "outputs": []
    },
    {
      "cell_type": "code",
      "source": [
        "### zastąpienie części braków danych\n",
        "df[\"Klub\"].isnull().sum()\n",
        "df[\"Klub\"] = df[\"Klub\"].replace(np.nan, \"Brak klubu\")"
      ],
      "metadata": {
        "id": "JWkhTXOFM-iy"
      },
      "execution_count": null,
      "outputs": []
    },
    {
      "cell_type": "code",
      "source": [
        "### usunięcie pozostałych braków danych\n",
        "df = df.dropna()"
      ],
      "metadata": {
        "id": "URj_WAJrNAKe"
      },
      "execution_count": null,
      "outputs": []
    },
    {
      "cell_type": "code",
      "source": [
        "df.isnull().sum()"
      ],
      "metadata": {
        "colab": {
          "base_uri": "https://localhost:8080/"
        },
        "id": "O7yvSacCNByv",
        "outputId": "4cc0030a-ce99-4435-a9e9-d794a5ab6df9"
      },
      "execution_count": null,
      "outputs": [
        {
          "output_type": "execute_result",
          "data": {
            "text/plain": [
              "Miejsce        0\n",
              "Nr             0\n",
              "Nazwisko       0\n",
              "Imię           0\n",
              "Miasto         0\n",
              "Klub           0\n",
              "Rocznik        0\n",
              "Kategoria      0\n",
              "Czas netto     0\n",
              "Czas brutto    0\n",
              "Data           0\n",
              "Rok            0\n",
              "Miesiąc        0\n",
              "Płeć           0\n",
              "dtype: int64"
            ]
          },
          "metadata": {},
          "execution_count": 84
        }
      ]
    },
    {
      "cell_type": "code",
      "source": [
        "from datetime import date\n",
        "df[\"New_Klub\"] = 0\n",
        "df.loc[df[\"Klub\"] != \"Brak klubu\", \"New_Klub\"] = 1\n",
        "df[\"Wiek\"] = date.today().year - df[\"Rocznik\"]"
      ],
      "metadata": {
        "id": "D7T-3BiDNEhs"
      },
      "execution_count": null,
      "outputs": []
    },
    {
      "cell_type": "code",
      "source": [
        "df_final = df.loc[:, [\"Czas netto\", \"Miesiąc\", \"New_Klub\", \"Wiek\", \"Płeć\"]]\n",
        "df_final[\"Miesiąc\"], df_final[\"Płeć\"] = df_final[\"Miesiąc\"].astype(\"float64\"), df_final[\"Płeć\"].astype(\"category\") \n",
        "df_final[\"New_Klub\"], df_final[\"Wiek\"] = df_final[\"New_Klub\"].astype(\"float64\"), df_final[\"Wiek\"].astype(\"float64\")"
      ],
      "metadata": {
        "id": "4O-9DpteNHvt"
      },
      "execution_count": null,
      "outputs": []
    },
    {
      "cell_type": "code",
      "source": [
        "from sklearn.preprocessing import LabelEncoder\n",
        "le = LabelEncoder()\n",
        "df_final[\"Płeć\"] = le.fit_transform(df_final[\"Płeć\"])"
      ],
      "metadata": {
        "id": "Zt_qABQtNJe6"
      },
      "execution_count": null,
      "outputs": []
    },
    {
      "cell_type": "code",
      "source": [
        "MLPR = MLPRegressor(hidden_layer_sizes = (4, ), learning_rate = \"adaptive\", learning_rate_init= 0.001, max_iter = 1000)"
      ],
      "metadata": {
        "id": "csTnlDgkNkUS"
      },
      "execution_count": null,
      "outputs": []
    },
    {
      "cell_type": "code",
      "source": [
        "x = df_final.loc[:, df_final.columns != \"Czas netto\"]\n",
        "y = df_final.loc[:, df_final.columns == \"Czas netto\"]\n",
        "x_train, x_test, y_train, y_test = train_test_split(x, y, test_size = 0.25, random_state = 11)"
      ],
      "metadata": {
        "id": "1vVUzekAOREb"
      },
      "execution_count": null,
      "outputs": []
    },
    {
      "cell_type": "code",
      "source": [
        "y_train = np.ravel(y_train)\n",
        "MLPR.fit(x_train, y_train)\n",
        "pred = MLPR.predict(x_test)"
      ],
      "metadata": {
        "id": "62p2xVqgO2kZ"
      },
      "execution_count": null,
      "outputs": []
    },
    {
      "cell_type": "code",
      "source": [
        "r2_score(y_test, pred)"
      ],
      "metadata": {
        "colab": {
          "base_uri": "https://localhost:8080/"
        },
        "id": "2W5cqyDwPFsi",
        "outputId": "2c91ffb1-f114-4b9e-c61d-99f4983e5280"
      },
      "execution_count": null,
      "outputs": [
        {
          "output_type": "execute_result",
          "data": {
            "text/plain": [
              "0.28257027056069295"
            ]
          },
          "metadata": {},
          "execution_count": 91
        }
      ]
    },
    {
      "cell_type": "code",
      "source": [
        "import pickle\n",
        "\n",
        "with open(\"MLPR.pkl\", \"wb\") as fh:\n",
        "  pickle.dump(MLPR, fh)"
      ],
      "metadata": {
        "id": "N-GGy8AcPXkc"
      },
      "execution_count": null,
      "outputs": []
    },
    {
      "cell_type": "code",
      "source": [
        "df_final.dtypes"
      ],
      "metadata": {
        "colab": {
          "base_uri": "https://localhost:8080/"
        },
        "id": "M-Ng3RUOQUUj",
        "outputId": "ee2e650a-81c1-45ff-818d-1c7456f94e99"
      },
      "execution_count": null,
      "outputs": [
        {
          "output_type": "execute_result",
          "data": {
            "text/plain": [
              "Czas netto    float64\n",
              "Miesiąc       float64\n",
              "New_Klub      float64\n",
              "Wiek          float64\n",
              "Płeć            int64\n",
              "dtype: object"
            ]
          },
          "metadata": {},
          "execution_count": 95
        }
      ]
    },
    {
      "cell_type": "code",
      "source": [
        "%%file MLPR.py\n",
        "\n",
        "from flask import Flask, request\n",
        "import pickle\n",
        "import numpy as np\n",
        "from sklearn.neural_network import MLPRegressor\n",
        "\n",
        "app = Flask(__name__)\n",
        "\n",
        "\n",
        "@app.route(\"/MLPR\", methods=['GET'])\n",
        "def make_prediction():\n",
        "    Miesiac = request.args.get(\"Miesiąc\", 1, type=float)\n",
        "    New_Klub = request.args.get(\"New_Klub\", 0, type=float)\n",
        "    Wiek = request.args.get(\"Wiek\", 30, type=float)\n",
        "    Plec = request.args.get(\"Płeć\", 1, type=int)\n",
        "    data = np.array([Miesiac, New_Klub, Wiek, Plec]).reshape(1, -1)\n",
        "    \n",
        "    with open(\"MLPR.pkl\", \"rb\") as fh:    \n",
        "        model = pickle.load(fh)\n",
        "    \n",
        "    pred = model.predict(data)[0]\n",
        "    \n",
        "    return {\"prediction\": pred, \"features\": {\"Miesiac\": Miesiac, \"New_Klub\": New_Klub, \"Wiek\": Wiek, \"Plec\": Plec}}\n",
        "\n",
        "if __name__ == '__main__':\n",
        "    app.run()"
      ],
      "metadata": {
        "colab": {
          "base_uri": "https://localhost:8080/"
        },
        "id": "yCcqY06dP3sc",
        "outputId": "f2726f0a-71a9-4169-c131-e0b362c93d1c"
      },
      "execution_count": 103,
      "outputs": [
        {
          "output_type": "stream",
          "name": "stdout",
          "text": [
            "Overwriting MLPR.py\n"
          ]
        }
      ]
    },
    {
      "cell_type": "code",
      "source": [
        "import subprocess\n",
        "p = subprocess.Popen([\"python\", \"MLPR.py\"])"
      ],
      "metadata": {
        "id": "Bjdp2dP5SNGp"
      },
      "execution_count": 104,
      "outputs": []
    },
    {
      "cell_type": "code",
      "source": [
        "import requests\n",
        "response = requests.get(\"http://127.0.0.1:5000/MLPR\", params={\"Miesiąc\": 1, \"New_Klub\": 1, \"Wiek\": 30, \"Płeć\": 1})\n",
        "response.json()"
      ],
      "metadata": {
        "colab": {
          "base_uri": "https://localhost:8080/"
        },
        "id": "xzQGp6OxSUrt",
        "outputId": "bb5b5c9f-29e1-4f7a-f17c-1583618175bd"
      },
      "execution_count": 106,
      "outputs": [
        {
          "output_type": "execute_result",
          "data": {
            "text/plain": [
              "{'features': {'Miesiac': 1.0, 'New_Klub': 1.0, 'Plec': 1, 'Wiek': 30.0},\n",
              " 'prediction': 21.59408703911815}"
            ]
          },
          "metadata": {},
          "execution_count": 106
        }
      ]
    }
  ]
}