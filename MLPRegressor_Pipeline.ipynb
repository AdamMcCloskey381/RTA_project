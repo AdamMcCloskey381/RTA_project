{
  "nbformat": 4,
  "nbformat_minor": 0,
  "metadata": {
    "colab": {
      "name": "MLPRegressor_Pipeline.ipynb",
      "provenance": [],
      "authorship_tag": "ABX9TyMHekZI3grilZchtJ2vIkvZ",
      "include_colab_link": true
    },
    "kernelspec": {
      "name": "python3",
      "display_name": "Python 3"
    },
    "language_info": {
      "name": "python"
    }
  },
  "cells": [
    {
      "cell_type": "markdown",
      "metadata": {
        "id": "view-in-github",
        "colab_type": "text"
      },
      "source": [
        "<a href=\"https://colab.research.google.com/github/AdamMcCloskey381/RTA_project/blob/main/MLPRegressor_Pipeline.ipynb\" target=\"_parent\"><img src=\"https://colab.research.google.com/assets/colab-badge.svg\" alt=\"Open In Colab\"/></a>"
      ]
    },
    {
      "cell_type": "code",
      "execution_count": 104,
      "metadata": {
        "id": "GuBDxqB106Rg"
      },
      "outputs": [],
      "source": [
        "### import potrzebnych bibliotek\n",
        "import pandas as pd\n",
        "import numpy as np\n",
        "from sklearn.preprocessing import OneHotEncoder, StandardScaler\n",
        "from sklearn.pipeline import Pipeline\n",
        "from sklearn.neural_network import MLPRegressor\n",
        "from sklearn.compose import ColumnTransformer"
      ]
    },
    {
      "cell_type": "code",
      "source": [
        "### załadowanie danych\n",
        "df = pd.DataFrame()\n",
        "for i in range(118, 1555):\n",
        "  try:\n",
        "    df1 = pd.read_csv(\"biegi_{}.csv\".format(i))\n",
        "    df = df.append(df1)\n",
        "  except:\n",
        "    pass"
      ],
      "metadata": {
        "id": "o2zhHEWT3y1d"
      },
      "execution_count": 105,
      "outputs": []
    },
    {
      "cell_type": "code",
      "source": [
        "### zastąpienie części braków danych\n",
        "df[\"Klub\"].isnull().sum()\n",
        "df[\"Klub\"] = df[\"Klub\"].replace(np.nan, \"Brak klubu\")"
      ],
      "metadata": {
        "id": "E8ZZvfPy4PsD"
      },
      "execution_count": 106,
      "outputs": []
    },
    {
      "cell_type": "code",
      "source": [
        "### usunięcie pozostałych braków danych\n",
        "df = df.dropna()"
      ],
      "metadata": {
        "id": "-DrJdwPo6V-u"
      },
      "execution_count": 107,
      "outputs": []
    },
    {
      "cell_type": "code",
      "source": [
        "df.isnull().sum()"
      ],
      "metadata": {
        "colab": {
          "base_uri": "https://localhost:8080/"
        },
        "id": "vQcLF2N56nCl",
        "outputId": "9477b04f-1330-44c1-e07d-6d9521e0c19c"
      },
      "execution_count": 108,
      "outputs": [
        {
          "output_type": "execute_result",
          "data": {
            "text/plain": [
              "Miejsce        0\n",
              "Nr             0\n",
              "Nazwisko       0\n",
              "Imię           0\n",
              "Miasto         0\n",
              "Klub           0\n",
              "Rocznik        0\n",
              "Kategoria      0\n",
              "Czas netto     0\n",
              "Czas brutto    0\n",
              "Data           0\n",
              "Rok            0\n",
              "Miesiąc        0\n",
              "Płeć           0\n",
              "dtype: int64"
            ]
          },
          "metadata": {},
          "execution_count": 108
        }
      ]
    },
    {
      "cell_type": "code",
      "source": [
        "### zostawiamy klub (binarna), rocznik- przeskalować na wiek, miesiąc (parametryzacja), płeć(binarna); zmienna celu- czas netto\n",
        "from datetime import date\n",
        "df[\"New_Klub\"], df[\"Wiek\"]= 0, 0\n",
        "for i in range(df.shape[0]):\n",
        "  df.iloc[i, df.columns.tolist().index(\"New_Klub\")] = 0 if df.iloc[i, df.columns.tolist().index(\"Klub\")] == \"Brak klubu\" else 1\n",
        "  df.iloc[i, df.columns.tolist().index(\"Wiek\")] = date.today().year - df.iloc[i, df.columns.tolist().index(\"Rocznik\")]  "
      ],
      "metadata": {
        "colab": {
          "base_uri": "https://localhost:8080/"
        },
        "id": "1kM0uxry6qd7",
        "outputId": "761b1ccd-9a7d-4c13-dd1d-287a26293542"
      },
      "execution_count": 109,
      "outputs": [
        {
          "output_type": "stream",
          "name": "stderr",
          "text": [
            "/usr/local/lib/python3.7/dist-packages/ipykernel_launcher.py:3: SettingWithCopyWarning: \n",
            "A value is trying to be set on a copy of a slice from a DataFrame.\n",
            "Try using .loc[row_indexer,col_indexer] = value instead\n",
            "\n",
            "See the caveats in the documentation: https://pandas.pydata.org/pandas-docs/stable/user_guide/indexing.html#returning-a-view-versus-a-copy\n",
            "  This is separate from the ipykernel package so we can avoid doing imports until\n",
            "/usr/local/lib/python3.7/dist-packages/pandas/core/indexing.py:1817: SettingWithCopyWarning: \n",
            "A value is trying to be set on a copy of a slice from a DataFrame.\n",
            "Try using .loc[row_indexer,col_indexer] = value instead\n",
            "\n",
            "See the caveats in the documentation: https://pandas.pydata.org/pandas-docs/stable/user_guide/indexing.html#returning-a-view-versus-a-copy\n",
            "  self._setitem_single_column(loc, value, pi)\n"
          ]
        }
      ]
    },
    {
      "cell_type": "code",
      "source": [
        "df_final = df.loc[:, [\"Czas netto\", \"Miesiąc\", \"New_Klub\", \"Wiek\", \"Płeć\"]]\n",
        "df_final[\"Miesiąc\"], df_final[\"Płeć\"] = df_final[\"Miesiąc\"].astype(\"category\"), df_final[\"Płeć\"].astype(\"category\") \n",
        "df_final[\"New_Klub\"], df_final[\"Wiek\"] = df_final[\"New_Klub\"].astype(\"float64\"), df_final[\"Wiek\"].astype(\"float64\")"
      ],
      "metadata": {
        "id": "UmPEIuVb-byB"
      },
      "execution_count": 131,
      "outputs": []
    },
    {
      "cell_type": "code",
      "source": [
        "num_var = [\"Wiek\"]\n",
        "cat_var = [\"Miesiąc\", \"Płeć\"]\n",
        "\n",
        "num_trans = Pipeline(steps = [(\"scaler\", StandardScaler())])\n",
        "cat_trans = Pipeline(steps = [(\"Encoder\", OneHotEncoder())])\n",
        "\n",
        "preproc = ColumnTransformer(transformers = [(\"num_preproc\", num_trans, num_var), (\"cat_preproc\", cat_trans, cat_var)])"
      ],
      "metadata": {
        "id": "gPdhMsuNFzod"
      },
      "execution_count": 134,
      "outputs": []
    },
    {
      "cell_type": "code",
      "source": [
        "pipeline = Pipeline(steps = [(\"preproc\", preproc), (\"Model\", MLPRegressor())])\n",
        "\n",
        "from sklearn import set_config\n",
        "set_config(display = \"diagram\")\n",
        "pipeline"
      ],
      "metadata": {
        "colab": {
          "base_uri": "https://localhost:8080/",
          "height": 192
        },
        "id": "gFFBcb6PG_p0",
        "outputId": "32d6dadb-3136-47c6-fcd2-8322b9cf5584"
      },
      "execution_count": 136,
      "outputs": [
        {
          "output_type": "execute_result",
          "data": {
            "text/plain": [
              "Pipeline(steps=[('preproc',\n",
              "                 ColumnTransformer(transformers=[('num_preproc',\n",
              "                                                  Pipeline(steps=[('scaler',\n",
              "                                                                   StandardScaler())]),\n",
              "                                                  ['Wiek']),\n",
              "                                                 ('cat_preproc',\n",
              "                                                  Pipeline(steps=[('Encoder',\n",
              "                                                                   OneHotEncoder())]),\n",
              "                                                  ['Miesiąc', 'Płeć'])])),\n",
              "                ('Model', MLPRegressor())])"
            ],
            "text/html": [
              "<style>#sk-507c0fa3-c6e1-4456-b08b-2a32615b6274 {color: black;background-color: white;}#sk-507c0fa3-c6e1-4456-b08b-2a32615b6274 pre{padding: 0;}#sk-507c0fa3-c6e1-4456-b08b-2a32615b6274 div.sk-toggleable {background-color: white;}#sk-507c0fa3-c6e1-4456-b08b-2a32615b6274 label.sk-toggleable__label {cursor: pointer;display: block;width: 100%;margin-bottom: 0;padding: 0.3em;box-sizing: border-box;text-align: center;}#sk-507c0fa3-c6e1-4456-b08b-2a32615b6274 label.sk-toggleable__label-arrow:before {content: \"▸\";float: left;margin-right: 0.25em;color: #696969;}#sk-507c0fa3-c6e1-4456-b08b-2a32615b6274 label.sk-toggleable__label-arrow:hover:before {color: black;}#sk-507c0fa3-c6e1-4456-b08b-2a32615b6274 div.sk-estimator:hover label.sk-toggleable__label-arrow:before {color: black;}#sk-507c0fa3-c6e1-4456-b08b-2a32615b6274 div.sk-toggleable__content {max-height: 0;max-width: 0;overflow: hidden;text-align: left;background-color: #f0f8ff;}#sk-507c0fa3-c6e1-4456-b08b-2a32615b6274 div.sk-toggleable__content pre {margin: 0.2em;color: black;border-radius: 0.25em;background-color: #f0f8ff;}#sk-507c0fa3-c6e1-4456-b08b-2a32615b6274 input.sk-toggleable__control:checked~div.sk-toggleable__content {max-height: 200px;max-width: 100%;overflow: auto;}#sk-507c0fa3-c6e1-4456-b08b-2a32615b6274 input.sk-toggleable__control:checked~label.sk-toggleable__label-arrow:before {content: \"▾\";}#sk-507c0fa3-c6e1-4456-b08b-2a32615b6274 div.sk-estimator input.sk-toggleable__control:checked~label.sk-toggleable__label {background-color: #d4ebff;}#sk-507c0fa3-c6e1-4456-b08b-2a32615b6274 div.sk-label input.sk-toggleable__control:checked~label.sk-toggleable__label {background-color: #d4ebff;}#sk-507c0fa3-c6e1-4456-b08b-2a32615b6274 input.sk-hidden--visually {border: 0;clip: rect(1px 1px 1px 1px);clip: rect(1px, 1px, 1px, 1px);height: 1px;margin: -1px;overflow: hidden;padding: 0;position: absolute;width: 1px;}#sk-507c0fa3-c6e1-4456-b08b-2a32615b6274 div.sk-estimator {font-family: monospace;background-color: #f0f8ff;border: 1px dotted black;border-radius: 0.25em;box-sizing: border-box;margin-bottom: 0.5em;}#sk-507c0fa3-c6e1-4456-b08b-2a32615b6274 div.sk-estimator:hover {background-color: #d4ebff;}#sk-507c0fa3-c6e1-4456-b08b-2a32615b6274 div.sk-parallel-item::after {content: \"\";width: 100%;border-bottom: 1px solid gray;flex-grow: 1;}#sk-507c0fa3-c6e1-4456-b08b-2a32615b6274 div.sk-label:hover label.sk-toggleable__label {background-color: #d4ebff;}#sk-507c0fa3-c6e1-4456-b08b-2a32615b6274 div.sk-serial::before {content: \"\";position: absolute;border-left: 1px solid gray;box-sizing: border-box;top: 2em;bottom: 0;left: 50%;}#sk-507c0fa3-c6e1-4456-b08b-2a32615b6274 div.sk-serial {display: flex;flex-direction: column;align-items: center;background-color: white;padding-right: 0.2em;padding-left: 0.2em;}#sk-507c0fa3-c6e1-4456-b08b-2a32615b6274 div.sk-item {z-index: 1;}#sk-507c0fa3-c6e1-4456-b08b-2a32615b6274 div.sk-parallel {display: flex;align-items: stretch;justify-content: center;background-color: white;}#sk-507c0fa3-c6e1-4456-b08b-2a32615b6274 div.sk-parallel::before {content: \"\";position: absolute;border-left: 1px solid gray;box-sizing: border-box;top: 2em;bottom: 0;left: 50%;}#sk-507c0fa3-c6e1-4456-b08b-2a32615b6274 div.sk-parallel-item {display: flex;flex-direction: column;position: relative;background-color: white;}#sk-507c0fa3-c6e1-4456-b08b-2a32615b6274 div.sk-parallel-item:first-child::after {align-self: flex-end;width: 50%;}#sk-507c0fa3-c6e1-4456-b08b-2a32615b6274 div.sk-parallel-item:last-child::after {align-self: flex-start;width: 50%;}#sk-507c0fa3-c6e1-4456-b08b-2a32615b6274 div.sk-parallel-item:only-child::after {width: 0;}#sk-507c0fa3-c6e1-4456-b08b-2a32615b6274 div.sk-dashed-wrapped {border: 1px dashed gray;margin: 0 0.4em 0.5em 0.4em;box-sizing: border-box;padding-bottom: 0.4em;background-color: white;position: relative;}#sk-507c0fa3-c6e1-4456-b08b-2a32615b6274 div.sk-label label {font-family: monospace;font-weight: bold;background-color: white;display: inline-block;line-height: 1.2em;}#sk-507c0fa3-c6e1-4456-b08b-2a32615b6274 div.sk-label-container {position: relative;z-index: 2;text-align: center;}#sk-507c0fa3-c6e1-4456-b08b-2a32615b6274 div.sk-container {/* jupyter's `normalize.less` sets `[hidden] { display: none; }` but bootstrap.min.css set `[hidden] { display: none !important; }` so we also need the `!important` here to be able to override the default hidden behavior on the sphinx rendered scikit-learn.org. See: https://github.com/scikit-learn/scikit-learn/issues/21755 */display: inline-block !important;position: relative;}#sk-507c0fa3-c6e1-4456-b08b-2a32615b6274 div.sk-text-repr-fallback {display: none;}</style><div id=\"sk-507c0fa3-c6e1-4456-b08b-2a32615b6274\" class=\"sk-top-container\"><div class=\"sk-text-repr-fallback\"><pre>Pipeline(steps=[(&#x27;preproc&#x27;,\n",
              "                 ColumnTransformer(transformers=[(&#x27;num_preproc&#x27;,\n",
              "                                                  Pipeline(steps=[(&#x27;scaler&#x27;,\n",
              "                                                                   StandardScaler())]),\n",
              "                                                  [&#x27;Wiek&#x27;]),\n",
              "                                                 (&#x27;cat_preproc&#x27;,\n",
              "                                                  Pipeline(steps=[(&#x27;Encoder&#x27;,\n",
              "                                                                   OneHotEncoder())]),\n",
              "                                                  [&#x27;Miesiąc&#x27;, &#x27;Płeć&#x27;])])),\n",
              "                (&#x27;Model&#x27;, MLPRegressor())])</pre><b>Please rerun this cell to show the HTML repr or trust the notebook.</b></div><div class=\"sk-container\" hidden><div class=\"sk-item sk-dashed-wrapped\"><div class=\"sk-label-container\"><div class=\"sk-label sk-toggleable\"><input class=\"sk-toggleable__control sk-hidden--visually\" id=\"f383a8da-58c8-4eae-9320-522d8356eef4\" type=\"checkbox\" ><label for=\"f383a8da-58c8-4eae-9320-522d8356eef4\" class=\"sk-toggleable__label sk-toggleable__label-arrow\">Pipeline</label><div class=\"sk-toggleable__content\"><pre>Pipeline(steps=[(&#x27;preproc&#x27;,\n",
              "                 ColumnTransformer(transformers=[(&#x27;num_preproc&#x27;,\n",
              "                                                  Pipeline(steps=[(&#x27;scaler&#x27;,\n",
              "                                                                   StandardScaler())]),\n",
              "                                                  [&#x27;Wiek&#x27;]),\n",
              "                                                 (&#x27;cat_preproc&#x27;,\n",
              "                                                  Pipeline(steps=[(&#x27;Encoder&#x27;,\n",
              "                                                                   OneHotEncoder())]),\n",
              "                                                  [&#x27;Miesiąc&#x27;, &#x27;Płeć&#x27;])])),\n",
              "                (&#x27;Model&#x27;, MLPRegressor())])</pre></div></div></div><div class=\"sk-serial\"><div class=\"sk-item sk-dashed-wrapped\"><div class=\"sk-label-container\"><div class=\"sk-label sk-toggleable\"><input class=\"sk-toggleable__control sk-hidden--visually\" id=\"e7d709ae-b372-4fc1-a4f3-5b6070a02110\" type=\"checkbox\" ><label for=\"e7d709ae-b372-4fc1-a4f3-5b6070a02110\" class=\"sk-toggleable__label sk-toggleable__label-arrow\">preproc: ColumnTransformer</label><div class=\"sk-toggleable__content\"><pre>ColumnTransformer(transformers=[(&#x27;num_preproc&#x27;,\n",
              "                                 Pipeline(steps=[(&#x27;scaler&#x27;, StandardScaler())]),\n",
              "                                 [&#x27;Wiek&#x27;]),\n",
              "                                (&#x27;cat_preproc&#x27;,\n",
              "                                 Pipeline(steps=[(&#x27;Encoder&#x27;, OneHotEncoder())]),\n",
              "                                 [&#x27;Miesiąc&#x27;, &#x27;Płeć&#x27;])])</pre></div></div></div><div class=\"sk-parallel\"><div class=\"sk-parallel-item\"><div class=\"sk-item\"><div class=\"sk-label-container\"><div class=\"sk-label sk-toggleable\"><input class=\"sk-toggleable__control sk-hidden--visually\" id=\"368051b4-bea0-487c-aa47-7014acc18656\" type=\"checkbox\" ><label for=\"368051b4-bea0-487c-aa47-7014acc18656\" class=\"sk-toggleable__label sk-toggleable__label-arrow\">num_preproc</label><div class=\"sk-toggleable__content\"><pre>[&#x27;Wiek&#x27;]</pre></div></div></div><div class=\"sk-serial\"><div class=\"sk-item\"><div class=\"sk-serial\"><div class=\"sk-item\"><div class=\"sk-estimator sk-toggleable\"><input class=\"sk-toggleable__control sk-hidden--visually\" id=\"328a24b7-655c-4117-8724-acbb539484d8\" type=\"checkbox\" ><label for=\"328a24b7-655c-4117-8724-acbb539484d8\" class=\"sk-toggleable__label sk-toggleable__label-arrow\">StandardScaler</label><div class=\"sk-toggleable__content\"><pre>StandardScaler()</pre></div></div></div></div></div></div></div></div><div class=\"sk-parallel-item\"><div class=\"sk-item\"><div class=\"sk-label-container\"><div class=\"sk-label sk-toggleable\"><input class=\"sk-toggleable__control sk-hidden--visually\" id=\"2c9acb8f-81d1-41e9-8eb2-ecd7400add09\" type=\"checkbox\" ><label for=\"2c9acb8f-81d1-41e9-8eb2-ecd7400add09\" class=\"sk-toggleable__label sk-toggleable__label-arrow\">cat_preproc</label><div class=\"sk-toggleable__content\"><pre>[&#x27;Miesiąc&#x27;, &#x27;Płeć&#x27;]</pre></div></div></div><div class=\"sk-serial\"><div class=\"sk-item\"><div class=\"sk-serial\"><div class=\"sk-item\"><div class=\"sk-estimator sk-toggleable\"><input class=\"sk-toggleable__control sk-hidden--visually\" id=\"938931d5-7d1d-47cc-9504-20dc6fd69fbc\" type=\"checkbox\" ><label for=\"938931d5-7d1d-47cc-9504-20dc6fd69fbc\" class=\"sk-toggleable__label sk-toggleable__label-arrow\">OneHotEncoder</label><div class=\"sk-toggleable__content\"><pre>OneHotEncoder()</pre></div></div></div></div></div></div></div></div></div></div><div class=\"sk-item\"><div class=\"sk-estimator sk-toggleable\"><input class=\"sk-toggleable__control sk-hidden--visually\" id=\"9e47416c-dc7a-4f48-866b-5a90a8b536c5\" type=\"checkbox\" ><label for=\"9e47416c-dc7a-4f48-866b-5a90a8b536c5\" class=\"sk-toggleable__label sk-toggleable__label-arrow\">MLPRegressor</label><div class=\"sk-toggleable__content\"><pre>MLPRegressor()</pre></div></div></div></div></div></div></div>"
            ]
          },
          "metadata": {},
          "execution_count": 136
        }
      ]
    },
    {
      "cell_type": "code",
      "source": [
        "x = df_final.loc[:, df_final.columns != \"Czas netto\"]\n",
        "y = df_final.loc[:, df_final.columns == \"Czas netto\"]\n",
        "\n",
        "from sklearn.model_selection import train_test_split\n",
        "\n",
        "x_train, x_test, y_train, y_test = train_test_split(x, y, test_size = 0.25, random_state = 42)"
      ],
      "metadata": {
        "id": "hxWb-eNFHOwc"
      },
      "execution_count": 138,
      "outputs": []
    },
    {
      "cell_type": "code",
      "source": [
        "y_train = np.ravel(y_train)\n",
        "pipeline.fit(x_train, y_train)"
      ],
      "metadata": {
        "colab": {
          "base_uri": "https://localhost:8080/",
          "height": 192
        },
        "id": "C5PREHMYHvUu",
        "outputId": "b0fdfaa9-5319-4a9e-e088-ce52ca7ca398"
      },
      "execution_count": 140,
      "outputs": [
        {
          "output_type": "execute_result",
          "data": {
            "text/plain": [
              "Pipeline(steps=[('preproc',\n",
              "                 ColumnTransformer(transformers=[('num_preproc',\n",
              "                                                  Pipeline(steps=[('scaler',\n",
              "                                                                   StandardScaler())]),\n",
              "                                                  ['Wiek']),\n",
              "                                                 ('cat_preproc',\n",
              "                                                  Pipeline(steps=[('Encoder',\n",
              "                                                                   OneHotEncoder())]),\n",
              "                                                  ['Miesiąc', 'Płeć'])])),\n",
              "                ('Model', MLPRegressor())])"
            ],
            "text/html": [
              "<style>#sk-ddce0ad6-0ca4-4e77-9787-e91a16e7e708 {color: black;background-color: white;}#sk-ddce0ad6-0ca4-4e77-9787-e91a16e7e708 pre{padding: 0;}#sk-ddce0ad6-0ca4-4e77-9787-e91a16e7e708 div.sk-toggleable {background-color: white;}#sk-ddce0ad6-0ca4-4e77-9787-e91a16e7e708 label.sk-toggleable__label {cursor: pointer;display: block;width: 100%;margin-bottom: 0;padding: 0.3em;box-sizing: border-box;text-align: center;}#sk-ddce0ad6-0ca4-4e77-9787-e91a16e7e708 label.sk-toggleable__label-arrow:before {content: \"▸\";float: left;margin-right: 0.25em;color: #696969;}#sk-ddce0ad6-0ca4-4e77-9787-e91a16e7e708 label.sk-toggleable__label-arrow:hover:before {color: black;}#sk-ddce0ad6-0ca4-4e77-9787-e91a16e7e708 div.sk-estimator:hover label.sk-toggleable__label-arrow:before {color: black;}#sk-ddce0ad6-0ca4-4e77-9787-e91a16e7e708 div.sk-toggleable__content {max-height: 0;max-width: 0;overflow: hidden;text-align: left;background-color: #f0f8ff;}#sk-ddce0ad6-0ca4-4e77-9787-e91a16e7e708 div.sk-toggleable__content pre {margin: 0.2em;color: black;border-radius: 0.25em;background-color: #f0f8ff;}#sk-ddce0ad6-0ca4-4e77-9787-e91a16e7e708 input.sk-toggleable__control:checked~div.sk-toggleable__content {max-height: 200px;max-width: 100%;overflow: auto;}#sk-ddce0ad6-0ca4-4e77-9787-e91a16e7e708 input.sk-toggleable__control:checked~label.sk-toggleable__label-arrow:before {content: \"▾\";}#sk-ddce0ad6-0ca4-4e77-9787-e91a16e7e708 div.sk-estimator input.sk-toggleable__control:checked~label.sk-toggleable__label {background-color: #d4ebff;}#sk-ddce0ad6-0ca4-4e77-9787-e91a16e7e708 div.sk-label input.sk-toggleable__control:checked~label.sk-toggleable__label {background-color: #d4ebff;}#sk-ddce0ad6-0ca4-4e77-9787-e91a16e7e708 input.sk-hidden--visually {border: 0;clip: rect(1px 1px 1px 1px);clip: rect(1px, 1px, 1px, 1px);height: 1px;margin: -1px;overflow: hidden;padding: 0;position: absolute;width: 1px;}#sk-ddce0ad6-0ca4-4e77-9787-e91a16e7e708 div.sk-estimator {font-family: monospace;background-color: #f0f8ff;border: 1px dotted black;border-radius: 0.25em;box-sizing: border-box;margin-bottom: 0.5em;}#sk-ddce0ad6-0ca4-4e77-9787-e91a16e7e708 div.sk-estimator:hover {background-color: #d4ebff;}#sk-ddce0ad6-0ca4-4e77-9787-e91a16e7e708 div.sk-parallel-item::after {content: \"\";width: 100%;border-bottom: 1px solid gray;flex-grow: 1;}#sk-ddce0ad6-0ca4-4e77-9787-e91a16e7e708 div.sk-label:hover label.sk-toggleable__label {background-color: #d4ebff;}#sk-ddce0ad6-0ca4-4e77-9787-e91a16e7e708 div.sk-serial::before {content: \"\";position: absolute;border-left: 1px solid gray;box-sizing: border-box;top: 2em;bottom: 0;left: 50%;}#sk-ddce0ad6-0ca4-4e77-9787-e91a16e7e708 div.sk-serial {display: flex;flex-direction: column;align-items: center;background-color: white;padding-right: 0.2em;padding-left: 0.2em;}#sk-ddce0ad6-0ca4-4e77-9787-e91a16e7e708 div.sk-item {z-index: 1;}#sk-ddce0ad6-0ca4-4e77-9787-e91a16e7e708 div.sk-parallel {display: flex;align-items: stretch;justify-content: center;background-color: white;}#sk-ddce0ad6-0ca4-4e77-9787-e91a16e7e708 div.sk-parallel::before {content: \"\";position: absolute;border-left: 1px solid gray;box-sizing: border-box;top: 2em;bottom: 0;left: 50%;}#sk-ddce0ad6-0ca4-4e77-9787-e91a16e7e708 div.sk-parallel-item {display: flex;flex-direction: column;position: relative;background-color: white;}#sk-ddce0ad6-0ca4-4e77-9787-e91a16e7e708 div.sk-parallel-item:first-child::after {align-self: flex-end;width: 50%;}#sk-ddce0ad6-0ca4-4e77-9787-e91a16e7e708 div.sk-parallel-item:last-child::after {align-self: flex-start;width: 50%;}#sk-ddce0ad6-0ca4-4e77-9787-e91a16e7e708 div.sk-parallel-item:only-child::after {width: 0;}#sk-ddce0ad6-0ca4-4e77-9787-e91a16e7e708 div.sk-dashed-wrapped {border: 1px dashed gray;margin: 0 0.4em 0.5em 0.4em;box-sizing: border-box;padding-bottom: 0.4em;background-color: white;position: relative;}#sk-ddce0ad6-0ca4-4e77-9787-e91a16e7e708 div.sk-label label {font-family: monospace;font-weight: bold;background-color: white;display: inline-block;line-height: 1.2em;}#sk-ddce0ad6-0ca4-4e77-9787-e91a16e7e708 div.sk-label-container {position: relative;z-index: 2;text-align: center;}#sk-ddce0ad6-0ca4-4e77-9787-e91a16e7e708 div.sk-container {/* jupyter's `normalize.less` sets `[hidden] { display: none; }` but bootstrap.min.css set `[hidden] { display: none !important; }` so we also need the `!important` here to be able to override the default hidden behavior on the sphinx rendered scikit-learn.org. See: https://github.com/scikit-learn/scikit-learn/issues/21755 */display: inline-block !important;position: relative;}#sk-ddce0ad6-0ca4-4e77-9787-e91a16e7e708 div.sk-text-repr-fallback {display: none;}</style><div id=\"sk-ddce0ad6-0ca4-4e77-9787-e91a16e7e708\" class=\"sk-top-container\"><div class=\"sk-text-repr-fallback\"><pre>Pipeline(steps=[(&#x27;preproc&#x27;,\n",
              "                 ColumnTransformer(transformers=[(&#x27;num_preproc&#x27;,\n",
              "                                                  Pipeline(steps=[(&#x27;scaler&#x27;,\n",
              "                                                                   StandardScaler())]),\n",
              "                                                  [&#x27;Wiek&#x27;]),\n",
              "                                                 (&#x27;cat_preproc&#x27;,\n",
              "                                                  Pipeline(steps=[(&#x27;Encoder&#x27;,\n",
              "                                                                   OneHotEncoder())]),\n",
              "                                                  [&#x27;Miesiąc&#x27;, &#x27;Płeć&#x27;])])),\n",
              "                (&#x27;Model&#x27;, MLPRegressor())])</pre><b>Please rerun this cell to show the HTML repr or trust the notebook.</b></div><div class=\"sk-container\" hidden><div class=\"sk-item sk-dashed-wrapped\"><div class=\"sk-label-container\"><div class=\"sk-label sk-toggleable\"><input class=\"sk-toggleable__control sk-hidden--visually\" id=\"8a8b4b7c-b6c5-4682-8713-1120de5af35b\" type=\"checkbox\" ><label for=\"8a8b4b7c-b6c5-4682-8713-1120de5af35b\" class=\"sk-toggleable__label sk-toggleable__label-arrow\">Pipeline</label><div class=\"sk-toggleable__content\"><pre>Pipeline(steps=[(&#x27;preproc&#x27;,\n",
              "                 ColumnTransformer(transformers=[(&#x27;num_preproc&#x27;,\n",
              "                                                  Pipeline(steps=[(&#x27;scaler&#x27;,\n",
              "                                                                   StandardScaler())]),\n",
              "                                                  [&#x27;Wiek&#x27;]),\n",
              "                                                 (&#x27;cat_preproc&#x27;,\n",
              "                                                  Pipeline(steps=[(&#x27;Encoder&#x27;,\n",
              "                                                                   OneHotEncoder())]),\n",
              "                                                  [&#x27;Miesiąc&#x27;, &#x27;Płeć&#x27;])])),\n",
              "                (&#x27;Model&#x27;, MLPRegressor())])</pre></div></div></div><div class=\"sk-serial\"><div class=\"sk-item sk-dashed-wrapped\"><div class=\"sk-label-container\"><div class=\"sk-label sk-toggleable\"><input class=\"sk-toggleable__control sk-hidden--visually\" id=\"cce8f99b-3943-4e7e-a463-b57dce90c339\" type=\"checkbox\" ><label for=\"cce8f99b-3943-4e7e-a463-b57dce90c339\" class=\"sk-toggleable__label sk-toggleable__label-arrow\">preproc: ColumnTransformer</label><div class=\"sk-toggleable__content\"><pre>ColumnTransformer(transformers=[(&#x27;num_preproc&#x27;,\n",
              "                                 Pipeline(steps=[(&#x27;scaler&#x27;, StandardScaler())]),\n",
              "                                 [&#x27;Wiek&#x27;]),\n",
              "                                (&#x27;cat_preproc&#x27;,\n",
              "                                 Pipeline(steps=[(&#x27;Encoder&#x27;, OneHotEncoder())]),\n",
              "                                 [&#x27;Miesiąc&#x27;, &#x27;Płeć&#x27;])])</pre></div></div></div><div class=\"sk-parallel\"><div class=\"sk-parallel-item\"><div class=\"sk-item\"><div class=\"sk-label-container\"><div class=\"sk-label sk-toggleable\"><input class=\"sk-toggleable__control sk-hidden--visually\" id=\"26049d58-252a-431b-9469-85a4739a0ac3\" type=\"checkbox\" ><label for=\"26049d58-252a-431b-9469-85a4739a0ac3\" class=\"sk-toggleable__label sk-toggleable__label-arrow\">num_preproc</label><div class=\"sk-toggleable__content\"><pre>[&#x27;Wiek&#x27;]</pre></div></div></div><div class=\"sk-serial\"><div class=\"sk-item\"><div class=\"sk-serial\"><div class=\"sk-item\"><div class=\"sk-estimator sk-toggleable\"><input class=\"sk-toggleable__control sk-hidden--visually\" id=\"987a88a9-6219-4ee8-af88-e6dafc3b8a0c\" type=\"checkbox\" ><label for=\"987a88a9-6219-4ee8-af88-e6dafc3b8a0c\" class=\"sk-toggleable__label sk-toggleable__label-arrow\">StandardScaler</label><div class=\"sk-toggleable__content\"><pre>StandardScaler()</pre></div></div></div></div></div></div></div></div><div class=\"sk-parallel-item\"><div class=\"sk-item\"><div class=\"sk-label-container\"><div class=\"sk-label sk-toggleable\"><input class=\"sk-toggleable__control sk-hidden--visually\" id=\"6f830a96-4483-43af-8c1a-963ae88ff343\" type=\"checkbox\" ><label for=\"6f830a96-4483-43af-8c1a-963ae88ff343\" class=\"sk-toggleable__label sk-toggleable__label-arrow\">cat_preproc</label><div class=\"sk-toggleable__content\"><pre>[&#x27;Miesiąc&#x27;, &#x27;Płeć&#x27;]</pre></div></div></div><div class=\"sk-serial\"><div class=\"sk-item\"><div class=\"sk-serial\"><div class=\"sk-item\"><div class=\"sk-estimator sk-toggleable\"><input class=\"sk-toggleable__control sk-hidden--visually\" id=\"77a92a15-f3bb-4d1b-a996-b3117f8f0f51\" type=\"checkbox\" ><label for=\"77a92a15-f3bb-4d1b-a996-b3117f8f0f51\" class=\"sk-toggleable__label sk-toggleable__label-arrow\">OneHotEncoder</label><div class=\"sk-toggleable__content\"><pre>OneHotEncoder()</pre></div></div></div></div></div></div></div></div></div></div><div class=\"sk-item\"><div class=\"sk-estimator sk-toggleable\"><input class=\"sk-toggleable__control sk-hidden--visually\" id=\"fcb482c1-daec-4dc7-b0db-87cee34e3cd3\" type=\"checkbox\" ><label for=\"fcb482c1-daec-4dc7-b0db-87cee34e3cd3\" class=\"sk-toggleable__label sk-toggleable__label-arrow\">MLPRegressor</label><div class=\"sk-toggleable__content\"><pre>MLPRegressor()</pre></div></div></div></div></div></div></div>"
            ]
          },
          "metadata": {},
          "execution_count": 140
        }
      ]
    },
    {
      "cell_type": "code",
      "source": [
        "pred = pipeline.predict(x_test)\n",
        "pred"
      ],
      "metadata": {
        "colab": {
          "base_uri": "https://localhost:8080/"
        },
        "id": "bsqgEFHaIPS6",
        "outputId": "fc70c43b-0ff3-40ec-ce6f-6fc78838c138"
      },
      "execution_count": 141,
      "outputs": [
        {
          "output_type": "execute_result",
          "data": {
            "text/plain": [
              "array([27.24631687, 22.3612508 , 22.86151913, ..., 21.6041272 ,\n",
              "       26.75123772, 27.81960517])"
            ]
          },
          "metadata": {},
          "execution_count": 141
        }
      ]
    },
    {
      "cell_type": "code",
      "source": [
        "### MSE\n",
        "from math import sqrt\n",
        "error = []\n",
        "y_test = np.ravel(y_test)\n",
        "for i in range(len(pred)):\n",
        "  error.append((pred[i] - y_test[i])**2)\n",
        "sum(error)/len(y_test)"
      ],
      "metadata": {
        "colab": {
          "base_uri": "https://localhost:8080/"
        },
        "id": "7-N1OJgjIUUY",
        "outputId": "5822db9f-9ba7-4c5f-ad03-7b742e91cf82"
      },
      "execution_count": 155,
      "outputs": [
        {
          "output_type": "execute_result",
          "data": {
            "text/plain": [
              "20.42976486756695"
            ]
          },
          "metadata": {},
          "execution_count": 155
        }
      ]
    },
    {
      "cell_type": "code",
      "source": [
        "### MAE\n",
        "error = []\n",
        "y_test = np.ravel(y_test)\n",
        "for i in range(len(pred)):\n",
        "  error.append(sqrt((pred[i] - y_test[i])**2))\n",
        "sum(error)/len(y_test)"
      ],
      "metadata": {
        "colab": {
          "base_uri": "https://localhost:8080/"
        },
        "id": "MNB7eq0HJh1I",
        "outputId": "ecb6c2d1-3b60-4fc3-caaf-57633a024791"
      },
      "execution_count": 156,
      "outputs": [
        {
          "output_type": "execute_result",
          "data": {
            "text/plain": [
              "3.432429177485628"
            ]
          },
          "metadata": {},
          "execution_count": 156
        }
      ]
    },
    {
      "cell_type": "code",
      "source": [
        "from sklearn.model_selection import GridSearchCV\n",
        "\n",
        "grid_params = [\n",
        "               {\"Model__hidden_layer_sizes\": [(4, ), (4, 2), (4, 3), (8, ), (8, 2), (8, 3)],\n",
        "                \"Model__activation\": [\"relu\", \"logistic\", \"tanh\"],\n",
        "                \"Model__solver\": [\"sgd\", \"adam\"]}\n",
        "]"
      ],
      "metadata": {
        "id": "4ECoO2QQJx0m"
      },
      "execution_count": 158,
      "outputs": []
    },
    {
      "cell_type": "code",
      "source": [
        "grid_search = GridSearchCV(pipeline, grid_params, cv = 10, verbose = True, n_jobs = -1)\n",
        "grid_search.fit(x_train, y_train)\n",
        "grid_search.best_params_"
      ],
      "metadata": {
        "colab": {
          "base_uri": "https://localhost:8080/"
        },
        "id": "n-_T31eBNSJb",
        "outputId": "7440e1f1-5683-44a0-f04d-477d76504fd3"
      },
      "execution_count": 159,
      "outputs": [
        {
          "output_type": "stream",
          "name": "stdout",
          "text": [
            "Fitting 10 folds for each of 36 candidates, totalling 360 fits\n"
          ]
        },
        {
          "output_type": "stream",
          "name": "stderr",
          "text": [
            "/usr/local/lib/python3.7/dist-packages/sklearn/neural_network/_multilayer_perceptron.py:696: ConvergenceWarning: Stochastic Optimizer: Maximum iterations (200) reached and the optimization hasn't converged yet.\n",
            "  ConvergenceWarning,\n"
          ]
        },
        {
          "output_type": "execute_result",
          "data": {
            "text/plain": [
              "{'Model__activation': 'logistic',\n",
              " 'Model__hidden_layer_sizes': (8,),\n",
              " 'Model__solver': 'adam'}"
            ]
          },
          "metadata": {},
          "execution_count": 159
        }
      ]
    },
    {
      "cell_type": "code",
      "source": [
        "grid_search.best_params_[\"Model__hidden_layer_sizes\"]"
      ],
      "metadata": {
        "colab": {
          "base_uri": "https://localhost:8080/"
        },
        "id": "yyJnY8DwSxeS",
        "outputId": "89b77cdc-0fe8-4c77-b23f-08b87dcc31ff"
      },
      "execution_count": 162,
      "outputs": [
        {
          "output_type": "execute_result",
          "data": {
            "text/plain": [
              "(8,)"
            ]
          },
          "metadata": {},
          "execution_count": 162
        }
      ]
    },
    {
      "cell_type": "code",
      "source": [
        "pipeline_tuned = Pipeline(steps = [(\"preproc\", preproc), (\"Model\", MLPRegressor(activation = grid_search.best_params_[\"Model__activation\"],\n",
        "                                                                                hidden_layer_sizes = grid_search.best_params_[\"Model__hidden_layer_sizes\"],\n",
        "                                                                                solver = grid_search.best_params_[\"Model__solver\"]))])"
      ],
      "metadata": {
        "id": "pSNbnasWSi4i"
      },
      "execution_count": 163,
      "outputs": []
    },
    {
      "cell_type": "code",
      "source": [
        "pipeline_tuned.fit(x_train, y_train)\n",
        "pred = pipeline_tuned.predict(x_test)"
      ],
      "metadata": {
        "colab": {
          "base_uri": "https://localhost:8080/"
        },
        "id": "lYod1L-_TOBU",
        "outputId": "313f6516-1d8d-4af4-d83f-24a86b5f29db"
      },
      "execution_count": 164,
      "outputs": [
        {
          "output_type": "stream",
          "name": "stderr",
          "text": [
            "/usr/local/lib/python3.7/dist-packages/sklearn/neural_network/_multilayer_perceptron.py:696: ConvergenceWarning: Stochastic Optimizer: Maximum iterations (200) reached and the optimization hasn't converged yet.\n",
            "  ConvergenceWarning,\n"
          ]
        }
      ]
    },
    {
      "cell_type": "code",
      "source": [
        "### MSE\n",
        "from math import sqrt\n",
        "error = []\n",
        "y_test = np.ravel(y_test)\n",
        "for i in range(len(pred)):\n",
        "  error.append((pred[i] - y_test[i])**2)\n",
        "sum(error)/len(y_test)"
      ],
      "metadata": {
        "colab": {
          "base_uri": "https://localhost:8080/"
        },
        "id": "qs0JAc4aTYmi",
        "outputId": "ff1dcc3a-711d-42c2-a7b6-7c7ae14d47c3"
      },
      "execution_count": 168,
      "outputs": [
        {
          "output_type": "execute_result",
          "data": {
            "text/plain": [
              "20.347287237729105"
            ]
          },
          "metadata": {},
          "execution_count": 168
        }
      ]
    },
    {
      "cell_type": "code",
      "source": [
        "### MAE\n",
        "error = []\n",
        "y_test = np.ravel(y_test)\n",
        "for i in range(len(pred)):\n",
        "  error.append(sqrt((pred[i] - y_test[i])**2))\n",
        "sum(error)/len(y_test)"
      ],
      "metadata": {
        "colab": {
          "base_uri": "https://localhost:8080/"
        },
        "id": "fBOQstaPTfxO",
        "outputId": "5c86cc8d-2513-4995-cc99-b6397117c739"
      },
      "execution_count": 169,
      "outputs": [
        {
          "output_type": "execute_result",
          "data": {
            "text/plain": [
              "3.4401999362146247"
            ]
          },
          "metadata": {},
          "execution_count": 169
        }
      ]
    }
  ]
}