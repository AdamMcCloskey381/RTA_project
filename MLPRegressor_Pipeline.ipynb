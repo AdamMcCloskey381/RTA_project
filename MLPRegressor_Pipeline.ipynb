{
  "nbformat": 4,
  "nbformat_minor": 0,
  "metadata": {
    "colab": {
      "name": "MLPRegressor_Pipeline.ipynb",
      "provenance": [],
      "authorship_tag": "ABX9TyPbhw09znKSHPqEGSpuhfnl",
      "include_colab_link": true
    },
    "kernelspec": {
      "name": "python3",
      "display_name": "Python 3"
    },
    "language_info": {
      "name": "python"
    }
  },
  "cells": [
    {
      "cell_type": "markdown",
      "metadata": {
        "id": "view-in-github",
        "colab_type": "text"
      },
      "source": [
        "<a href=\"https://colab.research.google.com/github/AdamMcCloskey381/RTA_project/blob/main/MLPRegressor_Pipeline.ipynb\" target=\"_parent\"><img src=\"https://colab.research.google.com/assets/colab-badge.svg\" alt=\"Open In Colab\"/></a>"
      ]
    },
    {
      "cell_type": "code",
      "execution_count": 29,
      "metadata": {
        "id": "GuBDxqB106Rg"
      },
      "outputs": [],
      "source": [
        "### import potrzebnych bibliotek\n",
        "import pandas as pd\n",
        "import numpy as np\n",
        "from sklearn.preprocessing import OneHotEncoder, StandardScaler\n",
        "from sklearn.pipeline import Pipeline\n",
        "from sklearn.neural_network import MLPRegressor\n",
        "from sklearn.compose import ColumnTransformer\n",
        "from sklearn.metrics import r2_score"
      ]
    },
    {
      "cell_type": "code",
      "source": [
        "### załadowanie danych\n",
        "df = pd.DataFrame()\n",
        "for i in range(118, 1555):\n",
        "  try:\n",
        "    df1 = pd.read_csv(\"biegi_{}.csv\".format(i))\n",
        "    df = df.append(df1)\n",
        "  except:\n",
        "    pass"
      ],
      "metadata": {
        "id": "o2zhHEWT3y1d"
      },
      "execution_count": 30,
      "outputs": []
    },
    {
      "cell_type": "code",
      "source": [
        "### zastąpienie części braków danych\n",
        "df[\"Klub\"].isnull().sum()\n",
        "df[\"Klub\"] = df[\"Klub\"].replace(np.nan, \"Brak klubu\")"
      ],
      "metadata": {
        "id": "E8ZZvfPy4PsD"
      },
      "execution_count": 31,
      "outputs": []
    },
    {
      "cell_type": "code",
      "source": [
        "### usunięcie pozostałych braków danych\n",
        "df = df.dropna()"
      ],
      "metadata": {
        "id": "-DrJdwPo6V-u"
      },
      "execution_count": 32,
      "outputs": []
    },
    {
      "cell_type": "code",
      "source": [
        "df.isnull().sum()"
      ],
      "metadata": {
        "colab": {
          "base_uri": "https://localhost:8080/"
        },
        "id": "vQcLF2N56nCl",
        "outputId": "26498f37-f324-4b1c-decc-af81211f57bb"
      },
      "execution_count": 33,
      "outputs": [
        {
          "output_type": "execute_result",
          "data": {
            "text/plain": [
              "Miejsce        0\n",
              "Nr             0\n",
              "Nazwisko       0\n",
              "Imię           0\n",
              "Miasto         0\n",
              "Klub           0\n",
              "Rocznik        0\n",
              "Kategoria      0\n",
              "Czas netto     0\n",
              "Czas brutto    0\n",
              "Data           0\n",
              "Rok            0\n",
              "Miesiąc        0\n",
              "Płeć           0\n",
              "dtype: int64"
            ]
          },
          "metadata": {},
          "execution_count": 33
        }
      ]
    },
    {
      "cell_type": "code",
      "source": [
        "from datetime import date\n",
        "df[\"New_Klub\"] = 0\n",
        "df.loc[df[\"Klub\"] != \"Brak klubu\", \"New_Klub\"] = 1\n",
        "df[\"Wiek\"] = date.today().year - df[\"Rocznik\"]"
      ],
      "metadata": {
        "id": "1kM0uxry6qd7"
      },
      "execution_count": 79,
      "outputs": []
    },
    {
      "cell_type": "code",
      "source": [
        "df_final = df.loc[:, [\"Czas netto\", \"Miesiąc\", \"New_Klub\", \"Wiek\", \"Płeć\"]]\n",
        "df_final[\"Miesiąc\"], df_final[\"Płeć\"] = df_final[\"Miesiąc\"].astype(\"category\"), df_final[\"Płeć\"].astype(\"category\") \n",
        "df_final[\"New_Klub\"], df_final[\"Wiek\"] = df_final[\"New_Klub\"].astype(\"float64\"), df_final[\"Wiek\"].astype(\"float64\")"
      ],
      "metadata": {
        "id": "UmPEIuVb-byB"
      },
      "execution_count": 35,
      "outputs": []
    },
    {
      "cell_type": "code",
      "source": [
        "num_var = [\"Wiek\"]\n",
        "cat_var = [\"Miesiąc\", \"Płeć\"]\n",
        "\n",
        "num_trans = Pipeline(steps = [(\"scaler\", StandardScaler())])\n",
        "cat_trans = Pipeline(steps = [(\"Encoder\", OneHotEncoder())])\n",
        "\n",
        "preproc = ColumnTransformer(transformers = [(\"num_preproc\", num_trans, num_var), (\"cat_preproc\", cat_trans, cat_var)])"
      ],
      "metadata": {
        "id": "gPdhMsuNFzod"
      },
      "execution_count": 36,
      "outputs": []
    },
    {
      "cell_type": "code",
      "source": [
        "pipeline = Pipeline(steps = [(\"preproc\", preproc), (\"Model\", MLPRegressor())])\n",
        "\n",
        "from sklearn import set_config\n",
        "set_config(display = \"diagram\")\n",
        "pipeline"
      ],
      "metadata": {
        "colab": {
          "base_uri": "https://localhost:8080/",
          "height": 192
        },
        "id": "gFFBcb6PG_p0",
        "outputId": "93723561-9ec4-4bef-8aa2-0e23aed28a11"
      },
      "execution_count": 67,
      "outputs": [
        {
          "output_type": "execute_result",
          "data": {
            "text/plain": [
              "Pipeline(steps=[('preproc',\n",
              "                 ColumnTransformer(transformers=[('num_preproc',\n",
              "                                                  Pipeline(steps=[('scaler',\n",
              "                                                                   StandardScaler())]),\n",
              "                                                  ['Wiek']),\n",
              "                                                 ('cat_preproc',\n",
              "                                                  Pipeline(steps=[('Encoder',\n",
              "                                                                   OneHotEncoder())]),\n",
              "                                                  ['Miesiąc', 'Płeć'])])),\n",
              "                ('Model', MLPRegressor())])"
            ],
            "text/html": [
              "<style>#sk-cef62203-5832-4a49-8ee2-9af50f42e1fd {color: black;background-color: white;}#sk-cef62203-5832-4a49-8ee2-9af50f42e1fd pre{padding: 0;}#sk-cef62203-5832-4a49-8ee2-9af50f42e1fd div.sk-toggleable {background-color: white;}#sk-cef62203-5832-4a49-8ee2-9af50f42e1fd label.sk-toggleable__label {cursor: pointer;display: block;width: 100%;margin-bottom: 0;padding: 0.3em;box-sizing: border-box;text-align: center;}#sk-cef62203-5832-4a49-8ee2-9af50f42e1fd label.sk-toggleable__label-arrow:before {content: \"▸\";float: left;margin-right: 0.25em;color: #696969;}#sk-cef62203-5832-4a49-8ee2-9af50f42e1fd label.sk-toggleable__label-arrow:hover:before {color: black;}#sk-cef62203-5832-4a49-8ee2-9af50f42e1fd div.sk-estimator:hover label.sk-toggleable__label-arrow:before {color: black;}#sk-cef62203-5832-4a49-8ee2-9af50f42e1fd div.sk-toggleable__content {max-height: 0;max-width: 0;overflow: hidden;text-align: left;background-color: #f0f8ff;}#sk-cef62203-5832-4a49-8ee2-9af50f42e1fd div.sk-toggleable__content pre {margin: 0.2em;color: black;border-radius: 0.25em;background-color: #f0f8ff;}#sk-cef62203-5832-4a49-8ee2-9af50f42e1fd input.sk-toggleable__control:checked~div.sk-toggleable__content {max-height: 200px;max-width: 100%;overflow: auto;}#sk-cef62203-5832-4a49-8ee2-9af50f42e1fd input.sk-toggleable__control:checked~label.sk-toggleable__label-arrow:before {content: \"▾\";}#sk-cef62203-5832-4a49-8ee2-9af50f42e1fd div.sk-estimator input.sk-toggleable__control:checked~label.sk-toggleable__label {background-color: #d4ebff;}#sk-cef62203-5832-4a49-8ee2-9af50f42e1fd div.sk-label input.sk-toggleable__control:checked~label.sk-toggleable__label {background-color: #d4ebff;}#sk-cef62203-5832-4a49-8ee2-9af50f42e1fd input.sk-hidden--visually {border: 0;clip: rect(1px 1px 1px 1px);clip: rect(1px, 1px, 1px, 1px);height: 1px;margin: -1px;overflow: hidden;padding: 0;position: absolute;width: 1px;}#sk-cef62203-5832-4a49-8ee2-9af50f42e1fd div.sk-estimator {font-family: monospace;background-color: #f0f8ff;border: 1px dotted black;border-radius: 0.25em;box-sizing: border-box;margin-bottom: 0.5em;}#sk-cef62203-5832-4a49-8ee2-9af50f42e1fd div.sk-estimator:hover {background-color: #d4ebff;}#sk-cef62203-5832-4a49-8ee2-9af50f42e1fd div.sk-parallel-item::after {content: \"\";width: 100%;border-bottom: 1px solid gray;flex-grow: 1;}#sk-cef62203-5832-4a49-8ee2-9af50f42e1fd div.sk-label:hover label.sk-toggleable__label {background-color: #d4ebff;}#sk-cef62203-5832-4a49-8ee2-9af50f42e1fd div.sk-serial::before {content: \"\";position: absolute;border-left: 1px solid gray;box-sizing: border-box;top: 2em;bottom: 0;left: 50%;}#sk-cef62203-5832-4a49-8ee2-9af50f42e1fd div.sk-serial {display: flex;flex-direction: column;align-items: center;background-color: white;padding-right: 0.2em;padding-left: 0.2em;}#sk-cef62203-5832-4a49-8ee2-9af50f42e1fd div.sk-item {z-index: 1;}#sk-cef62203-5832-4a49-8ee2-9af50f42e1fd div.sk-parallel {display: flex;align-items: stretch;justify-content: center;background-color: white;}#sk-cef62203-5832-4a49-8ee2-9af50f42e1fd div.sk-parallel::before {content: \"\";position: absolute;border-left: 1px solid gray;box-sizing: border-box;top: 2em;bottom: 0;left: 50%;}#sk-cef62203-5832-4a49-8ee2-9af50f42e1fd div.sk-parallel-item {display: flex;flex-direction: column;position: relative;background-color: white;}#sk-cef62203-5832-4a49-8ee2-9af50f42e1fd div.sk-parallel-item:first-child::after {align-self: flex-end;width: 50%;}#sk-cef62203-5832-4a49-8ee2-9af50f42e1fd div.sk-parallel-item:last-child::after {align-self: flex-start;width: 50%;}#sk-cef62203-5832-4a49-8ee2-9af50f42e1fd div.sk-parallel-item:only-child::after {width: 0;}#sk-cef62203-5832-4a49-8ee2-9af50f42e1fd div.sk-dashed-wrapped {border: 1px dashed gray;margin: 0 0.4em 0.5em 0.4em;box-sizing: border-box;padding-bottom: 0.4em;background-color: white;position: relative;}#sk-cef62203-5832-4a49-8ee2-9af50f42e1fd div.sk-label label {font-family: monospace;font-weight: bold;background-color: white;display: inline-block;line-height: 1.2em;}#sk-cef62203-5832-4a49-8ee2-9af50f42e1fd div.sk-label-container {position: relative;z-index: 2;text-align: center;}#sk-cef62203-5832-4a49-8ee2-9af50f42e1fd div.sk-container {/* jupyter's `normalize.less` sets `[hidden] { display: none; }` but bootstrap.min.css set `[hidden] { display: none !important; }` so we also need the `!important` here to be able to override the default hidden behavior on the sphinx rendered scikit-learn.org. See: https://github.com/scikit-learn/scikit-learn/issues/21755 */display: inline-block !important;position: relative;}#sk-cef62203-5832-4a49-8ee2-9af50f42e1fd div.sk-text-repr-fallback {display: none;}</style><div id=\"sk-cef62203-5832-4a49-8ee2-9af50f42e1fd\" class=\"sk-top-container\"><div class=\"sk-text-repr-fallback\"><pre>Pipeline(steps=[(&#x27;preproc&#x27;,\n",
              "                 ColumnTransformer(transformers=[(&#x27;num_preproc&#x27;,\n",
              "                                                  Pipeline(steps=[(&#x27;scaler&#x27;,\n",
              "                                                                   StandardScaler())]),\n",
              "                                                  [&#x27;Wiek&#x27;]),\n",
              "                                                 (&#x27;cat_preproc&#x27;,\n",
              "                                                  Pipeline(steps=[(&#x27;Encoder&#x27;,\n",
              "                                                                   OneHotEncoder())]),\n",
              "                                                  [&#x27;Miesiąc&#x27;, &#x27;Płeć&#x27;])])),\n",
              "                (&#x27;Model&#x27;, MLPRegressor())])</pre><b>Please rerun this cell to show the HTML repr or trust the notebook.</b></div><div class=\"sk-container\" hidden><div class=\"sk-item sk-dashed-wrapped\"><div class=\"sk-label-container\"><div class=\"sk-label sk-toggleable\"><input class=\"sk-toggleable__control sk-hidden--visually\" id=\"0fba732e-9cfd-4e13-84bb-71999f8ab157\" type=\"checkbox\" ><label for=\"0fba732e-9cfd-4e13-84bb-71999f8ab157\" class=\"sk-toggleable__label sk-toggleable__label-arrow\">Pipeline</label><div class=\"sk-toggleable__content\"><pre>Pipeline(steps=[(&#x27;preproc&#x27;,\n",
              "                 ColumnTransformer(transformers=[(&#x27;num_preproc&#x27;,\n",
              "                                                  Pipeline(steps=[(&#x27;scaler&#x27;,\n",
              "                                                                   StandardScaler())]),\n",
              "                                                  [&#x27;Wiek&#x27;]),\n",
              "                                                 (&#x27;cat_preproc&#x27;,\n",
              "                                                  Pipeline(steps=[(&#x27;Encoder&#x27;,\n",
              "                                                                   OneHotEncoder())]),\n",
              "                                                  [&#x27;Miesiąc&#x27;, &#x27;Płeć&#x27;])])),\n",
              "                (&#x27;Model&#x27;, MLPRegressor())])</pre></div></div></div><div class=\"sk-serial\"><div class=\"sk-item sk-dashed-wrapped\"><div class=\"sk-label-container\"><div class=\"sk-label sk-toggleable\"><input class=\"sk-toggleable__control sk-hidden--visually\" id=\"7202576b-6431-46ac-b6b3-8f93620efa6a\" type=\"checkbox\" ><label for=\"7202576b-6431-46ac-b6b3-8f93620efa6a\" class=\"sk-toggleable__label sk-toggleable__label-arrow\">preproc: ColumnTransformer</label><div class=\"sk-toggleable__content\"><pre>ColumnTransformer(transformers=[(&#x27;num_preproc&#x27;,\n",
              "                                 Pipeline(steps=[(&#x27;scaler&#x27;, StandardScaler())]),\n",
              "                                 [&#x27;Wiek&#x27;]),\n",
              "                                (&#x27;cat_preproc&#x27;,\n",
              "                                 Pipeline(steps=[(&#x27;Encoder&#x27;, OneHotEncoder())]),\n",
              "                                 [&#x27;Miesiąc&#x27;, &#x27;Płeć&#x27;])])</pre></div></div></div><div class=\"sk-parallel\"><div class=\"sk-parallel-item\"><div class=\"sk-item\"><div class=\"sk-label-container\"><div class=\"sk-label sk-toggleable\"><input class=\"sk-toggleable__control sk-hidden--visually\" id=\"ee02ebc6-182b-4e4c-a71a-293db80c0745\" type=\"checkbox\" ><label for=\"ee02ebc6-182b-4e4c-a71a-293db80c0745\" class=\"sk-toggleable__label sk-toggleable__label-arrow\">num_preproc</label><div class=\"sk-toggleable__content\"><pre>[&#x27;Wiek&#x27;]</pre></div></div></div><div class=\"sk-serial\"><div class=\"sk-item\"><div class=\"sk-serial\"><div class=\"sk-item\"><div class=\"sk-estimator sk-toggleable\"><input class=\"sk-toggleable__control sk-hidden--visually\" id=\"e8a892f8-7395-4118-b78c-c077e69a3a6e\" type=\"checkbox\" ><label for=\"e8a892f8-7395-4118-b78c-c077e69a3a6e\" class=\"sk-toggleable__label sk-toggleable__label-arrow\">StandardScaler</label><div class=\"sk-toggleable__content\"><pre>StandardScaler()</pre></div></div></div></div></div></div></div></div><div class=\"sk-parallel-item\"><div class=\"sk-item\"><div class=\"sk-label-container\"><div class=\"sk-label sk-toggleable\"><input class=\"sk-toggleable__control sk-hidden--visually\" id=\"b2ba543f-cf2f-4794-9a60-edb0bd762e95\" type=\"checkbox\" ><label for=\"b2ba543f-cf2f-4794-9a60-edb0bd762e95\" class=\"sk-toggleable__label sk-toggleable__label-arrow\">cat_preproc</label><div class=\"sk-toggleable__content\"><pre>[&#x27;Miesiąc&#x27;, &#x27;Płeć&#x27;]</pre></div></div></div><div class=\"sk-serial\"><div class=\"sk-item\"><div class=\"sk-serial\"><div class=\"sk-item\"><div class=\"sk-estimator sk-toggleable\"><input class=\"sk-toggleable__control sk-hidden--visually\" id=\"076b12dd-fbec-4bbc-bb90-720a24363709\" type=\"checkbox\" ><label for=\"076b12dd-fbec-4bbc-bb90-720a24363709\" class=\"sk-toggleable__label sk-toggleable__label-arrow\">OneHotEncoder</label><div class=\"sk-toggleable__content\"><pre>OneHotEncoder()</pre></div></div></div></div></div></div></div></div></div></div><div class=\"sk-item\"><div class=\"sk-estimator sk-toggleable\"><input class=\"sk-toggleable__control sk-hidden--visually\" id=\"cafa3440-2809-4ab5-8168-a2776d8a8616\" type=\"checkbox\" ><label for=\"cafa3440-2809-4ab5-8168-a2776d8a8616\" class=\"sk-toggleable__label sk-toggleable__label-arrow\">MLPRegressor</label><div class=\"sk-toggleable__content\"><pre>MLPRegressor()</pre></div></div></div></div></div></div></div>"
            ]
          },
          "metadata": {},
          "execution_count": 67
        }
      ]
    },
    {
      "cell_type": "code",
      "source": [
        "x = df_final.loc[:, df_final.columns != \"Czas netto\"]\n",
        "y = df_final.loc[:, df_final.columns == \"Czas netto\"]\n",
        "\n",
        "from sklearn.model_selection import train_test_split\n",
        "\n",
        "x_train, x_test, y_train, y_test = train_test_split(x, y, test_size = 0.25, random_state = 42)"
      ],
      "metadata": {
        "id": "hxWb-eNFHOwc"
      },
      "execution_count": 59,
      "outputs": []
    },
    {
      "cell_type": "code",
      "source": [
        "y_train = np.ravel(y_train)\n",
        "pipeline.fit(x_train, y_train)"
      ],
      "metadata": {
        "colab": {
          "base_uri": "https://localhost:8080/",
          "height": 192
        },
        "id": "C5PREHMYHvUu",
        "outputId": "00544f0e-46e5-46ba-8db1-75dc547d2236"
      },
      "execution_count": 60,
      "outputs": [
        {
          "output_type": "execute_result",
          "data": {
            "text/plain": [
              "Pipeline(steps=[('preproc',\n",
              "                 ColumnTransformer(transformers=[('num_preproc',\n",
              "                                                  Pipeline(steps=[('scaler',\n",
              "                                                                   StandardScaler())]),\n",
              "                                                  ['Wiek']),\n",
              "                                                 ('cat_preproc',\n",
              "                                                  Pipeline(steps=[('Encoder',\n",
              "                                                                   OneHotEncoder())]),\n",
              "                                                  ['Miesiąc', 'Płeć'])])),\n",
              "                ('Model', MLPRegressor(max_iter=1000))])"
            ],
            "text/html": [
              "<style>#sk-e32373b9-9561-4168-8bb5-419da868675c {color: black;background-color: white;}#sk-e32373b9-9561-4168-8bb5-419da868675c pre{padding: 0;}#sk-e32373b9-9561-4168-8bb5-419da868675c div.sk-toggleable {background-color: white;}#sk-e32373b9-9561-4168-8bb5-419da868675c label.sk-toggleable__label {cursor: pointer;display: block;width: 100%;margin-bottom: 0;padding: 0.3em;box-sizing: border-box;text-align: center;}#sk-e32373b9-9561-4168-8bb5-419da868675c label.sk-toggleable__label-arrow:before {content: \"▸\";float: left;margin-right: 0.25em;color: #696969;}#sk-e32373b9-9561-4168-8bb5-419da868675c label.sk-toggleable__label-arrow:hover:before {color: black;}#sk-e32373b9-9561-4168-8bb5-419da868675c div.sk-estimator:hover label.sk-toggleable__label-arrow:before {color: black;}#sk-e32373b9-9561-4168-8bb5-419da868675c div.sk-toggleable__content {max-height: 0;max-width: 0;overflow: hidden;text-align: left;background-color: #f0f8ff;}#sk-e32373b9-9561-4168-8bb5-419da868675c div.sk-toggleable__content pre {margin: 0.2em;color: black;border-radius: 0.25em;background-color: #f0f8ff;}#sk-e32373b9-9561-4168-8bb5-419da868675c input.sk-toggleable__control:checked~div.sk-toggleable__content {max-height: 200px;max-width: 100%;overflow: auto;}#sk-e32373b9-9561-4168-8bb5-419da868675c input.sk-toggleable__control:checked~label.sk-toggleable__label-arrow:before {content: \"▾\";}#sk-e32373b9-9561-4168-8bb5-419da868675c div.sk-estimator input.sk-toggleable__control:checked~label.sk-toggleable__label {background-color: #d4ebff;}#sk-e32373b9-9561-4168-8bb5-419da868675c div.sk-label input.sk-toggleable__control:checked~label.sk-toggleable__label {background-color: #d4ebff;}#sk-e32373b9-9561-4168-8bb5-419da868675c input.sk-hidden--visually {border: 0;clip: rect(1px 1px 1px 1px);clip: rect(1px, 1px, 1px, 1px);height: 1px;margin: -1px;overflow: hidden;padding: 0;position: absolute;width: 1px;}#sk-e32373b9-9561-4168-8bb5-419da868675c div.sk-estimator {font-family: monospace;background-color: #f0f8ff;border: 1px dotted black;border-radius: 0.25em;box-sizing: border-box;margin-bottom: 0.5em;}#sk-e32373b9-9561-4168-8bb5-419da868675c div.sk-estimator:hover {background-color: #d4ebff;}#sk-e32373b9-9561-4168-8bb5-419da868675c div.sk-parallel-item::after {content: \"\";width: 100%;border-bottom: 1px solid gray;flex-grow: 1;}#sk-e32373b9-9561-4168-8bb5-419da868675c div.sk-label:hover label.sk-toggleable__label {background-color: #d4ebff;}#sk-e32373b9-9561-4168-8bb5-419da868675c div.sk-serial::before {content: \"\";position: absolute;border-left: 1px solid gray;box-sizing: border-box;top: 2em;bottom: 0;left: 50%;}#sk-e32373b9-9561-4168-8bb5-419da868675c div.sk-serial {display: flex;flex-direction: column;align-items: center;background-color: white;padding-right: 0.2em;padding-left: 0.2em;}#sk-e32373b9-9561-4168-8bb5-419da868675c div.sk-item {z-index: 1;}#sk-e32373b9-9561-4168-8bb5-419da868675c div.sk-parallel {display: flex;align-items: stretch;justify-content: center;background-color: white;}#sk-e32373b9-9561-4168-8bb5-419da868675c div.sk-parallel::before {content: \"\";position: absolute;border-left: 1px solid gray;box-sizing: border-box;top: 2em;bottom: 0;left: 50%;}#sk-e32373b9-9561-4168-8bb5-419da868675c div.sk-parallel-item {display: flex;flex-direction: column;position: relative;background-color: white;}#sk-e32373b9-9561-4168-8bb5-419da868675c div.sk-parallel-item:first-child::after {align-self: flex-end;width: 50%;}#sk-e32373b9-9561-4168-8bb5-419da868675c div.sk-parallel-item:last-child::after {align-self: flex-start;width: 50%;}#sk-e32373b9-9561-4168-8bb5-419da868675c div.sk-parallel-item:only-child::after {width: 0;}#sk-e32373b9-9561-4168-8bb5-419da868675c div.sk-dashed-wrapped {border: 1px dashed gray;margin: 0 0.4em 0.5em 0.4em;box-sizing: border-box;padding-bottom: 0.4em;background-color: white;position: relative;}#sk-e32373b9-9561-4168-8bb5-419da868675c div.sk-label label {font-family: monospace;font-weight: bold;background-color: white;display: inline-block;line-height: 1.2em;}#sk-e32373b9-9561-4168-8bb5-419da868675c div.sk-label-container {position: relative;z-index: 2;text-align: center;}#sk-e32373b9-9561-4168-8bb5-419da868675c div.sk-container {/* jupyter's `normalize.less` sets `[hidden] { display: none; }` but bootstrap.min.css set `[hidden] { display: none !important; }` so we also need the `!important` here to be able to override the default hidden behavior on the sphinx rendered scikit-learn.org. See: https://github.com/scikit-learn/scikit-learn/issues/21755 */display: inline-block !important;position: relative;}#sk-e32373b9-9561-4168-8bb5-419da868675c div.sk-text-repr-fallback {display: none;}</style><div id=\"sk-e32373b9-9561-4168-8bb5-419da868675c\" class=\"sk-top-container\"><div class=\"sk-text-repr-fallback\"><pre>Pipeline(steps=[(&#x27;preproc&#x27;,\n",
              "                 ColumnTransformer(transformers=[(&#x27;num_preproc&#x27;,\n",
              "                                                  Pipeline(steps=[(&#x27;scaler&#x27;,\n",
              "                                                                   StandardScaler())]),\n",
              "                                                  [&#x27;Wiek&#x27;]),\n",
              "                                                 (&#x27;cat_preproc&#x27;,\n",
              "                                                  Pipeline(steps=[(&#x27;Encoder&#x27;,\n",
              "                                                                   OneHotEncoder())]),\n",
              "                                                  [&#x27;Miesiąc&#x27;, &#x27;Płeć&#x27;])])),\n",
              "                (&#x27;Model&#x27;, MLPRegressor(max_iter=1000))])</pre><b>Please rerun this cell to show the HTML repr or trust the notebook.</b></div><div class=\"sk-container\" hidden><div class=\"sk-item sk-dashed-wrapped\"><div class=\"sk-label-container\"><div class=\"sk-label sk-toggleable\"><input class=\"sk-toggleable__control sk-hidden--visually\" id=\"1acd5352-bbfe-4bf1-a762-ca6ba2d08fe9\" type=\"checkbox\" ><label for=\"1acd5352-bbfe-4bf1-a762-ca6ba2d08fe9\" class=\"sk-toggleable__label sk-toggleable__label-arrow\">Pipeline</label><div class=\"sk-toggleable__content\"><pre>Pipeline(steps=[(&#x27;preproc&#x27;,\n",
              "                 ColumnTransformer(transformers=[(&#x27;num_preproc&#x27;,\n",
              "                                                  Pipeline(steps=[(&#x27;scaler&#x27;,\n",
              "                                                                   StandardScaler())]),\n",
              "                                                  [&#x27;Wiek&#x27;]),\n",
              "                                                 (&#x27;cat_preproc&#x27;,\n",
              "                                                  Pipeline(steps=[(&#x27;Encoder&#x27;,\n",
              "                                                                   OneHotEncoder())]),\n",
              "                                                  [&#x27;Miesiąc&#x27;, &#x27;Płeć&#x27;])])),\n",
              "                (&#x27;Model&#x27;, MLPRegressor(max_iter=1000))])</pre></div></div></div><div class=\"sk-serial\"><div class=\"sk-item sk-dashed-wrapped\"><div class=\"sk-label-container\"><div class=\"sk-label sk-toggleable\"><input class=\"sk-toggleable__control sk-hidden--visually\" id=\"68f83a48-cf23-40f9-9b40-e3b94c98f5ce\" type=\"checkbox\" ><label for=\"68f83a48-cf23-40f9-9b40-e3b94c98f5ce\" class=\"sk-toggleable__label sk-toggleable__label-arrow\">preproc: ColumnTransformer</label><div class=\"sk-toggleable__content\"><pre>ColumnTransformer(transformers=[(&#x27;num_preproc&#x27;,\n",
              "                                 Pipeline(steps=[(&#x27;scaler&#x27;, StandardScaler())]),\n",
              "                                 [&#x27;Wiek&#x27;]),\n",
              "                                (&#x27;cat_preproc&#x27;,\n",
              "                                 Pipeline(steps=[(&#x27;Encoder&#x27;, OneHotEncoder())]),\n",
              "                                 [&#x27;Miesiąc&#x27;, &#x27;Płeć&#x27;])])</pre></div></div></div><div class=\"sk-parallel\"><div class=\"sk-parallel-item\"><div class=\"sk-item\"><div class=\"sk-label-container\"><div class=\"sk-label sk-toggleable\"><input class=\"sk-toggleable__control sk-hidden--visually\" id=\"221c6757-317e-4139-9bad-610a4af0aac6\" type=\"checkbox\" ><label for=\"221c6757-317e-4139-9bad-610a4af0aac6\" class=\"sk-toggleable__label sk-toggleable__label-arrow\">num_preproc</label><div class=\"sk-toggleable__content\"><pre>[&#x27;Wiek&#x27;]</pre></div></div></div><div class=\"sk-serial\"><div class=\"sk-item\"><div class=\"sk-serial\"><div class=\"sk-item\"><div class=\"sk-estimator sk-toggleable\"><input class=\"sk-toggleable__control sk-hidden--visually\" id=\"c1e784f3-78e0-4980-bc24-ff2e2f3683b2\" type=\"checkbox\" ><label for=\"c1e784f3-78e0-4980-bc24-ff2e2f3683b2\" class=\"sk-toggleable__label sk-toggleable__label-arrow\">StandardScaler</label><div class=\"sk-toggleable__content\"><pre>StandardScaler()</pre></div></div></div></div></div></div></div></div><div class=\"sk-parallel-item\"><div class=\"sk-item\"><div class=\"sk-label-container\"><div class=\"sk-label sk-toggleable\"><input class=\"sk-toggleable__control sk-hidden--visually\" id=\"fd175de8-074c-4de8-b87b-b300848f9188\" type=\"checkbox\" ><label for=\"fd175de8-074c-4de8-b87b-b300848f9188\" class=\"sk-toggleable__label sk-toggleable__label-arrow\">cat_preproc</label><div class=\"sk-toggleable__content\"><pre>[&#x27;Miesiąc&#x27;, &#x27;Płeć&#x27;]</pre></div></div></div><div class=\"sk-serial\"><div class=\"sk-item\"><div class=\"sk-serial\"><div class=\"sk-item\"><div class=\"sk-estimator sk-toggleable\"><input class=\"sk-toggleable__control sk-hidden--visually\" id=\"30c3cee0-4027-4616-bbc4-db5aacd9913c\" type=\"checkbox\" ><label for=\"30c3cee0-4027-4616-bbc4-db5aacd9913c\" class=\"sk-toggleable__label sk-toggleable__label-arrow\">OneHotEncoder</label><div class=\"sk-toggleable__content\"><pre>OneHotEncoder()</pre></div></div></div></div></div></div></div></div></div></div><div class=\"sk-item\"><div class=\"sk-estimator sk-toggleable\"><input class=\"sk-toggleable__control sk-hidden--visually\" id=\"714a3178-1f99-4874-af63-96987e0d1f89\" type=\"checkbox\" ><label for=\"714a3178-1f99-4874-af63-96987e0d1f89\" class=\"sk-toggleable__label sk-toggleable__label-arrow\">MLPRegressor</label><div class=\"sk-toggleable__content\"><pre>MLPRegressor(max_iter=1000)</pre></div></div></div></div></div></div></div>"
            ]
          },
          "metadata": {},
          "execution_count": 60
        }
      ]
    },
    {
      "cell_type": "code",
      "source": [
        "pred = pipeline.predict(x_test)\n",
        "pred"
      ],
      "metadata": {
        "colab": {
          "base_uri": "https://localhost:8080/"
        },
        "id": "bsqgEFHaIPS6",
        "outputId": "18fd2c40-ac13-4283-ea0e-e554974b0c65"
      },
      "execution_count": 61,
      "outputs": [
        {
          "output_type": "execute_result",
          "data": {
            "text/plain": [
              "array([27.3383619 , 22.53040908, 22.88605738, ..., 21.91386608,\n",
              "       26.94254788, 27.94717151])"
            ]
          },
          "metadata": {},
          "execution_count": 61
        }
      ]
    },
    {
      "cell_type": "code",
      "source": [
        "### MSE\n",
        "from math import sqrt\n",
        "error = []\n",
        "y_test = np.ravel(y_test)\n",
        "for i in range(len(pred)):\n",
        "  error.append((pred[i] - y_test[i])**2)\n",
        "sum(error)/len(y_test)"
      ],
      "metadata": {
        "colab": {
          "base_uri": "https://localhost:8080/"
        },
        "id": "7-N1OJgjIUUY",
        "outputId": "2cc5fa2f-ae8b-4ec5-a9d0-45371afe3932"
      },
      "execution_count": 62,
      "outputs": [
        {
          "output_type": "execute_result",
          "data": {
            "text/plain": [
              "20.40087168037028"
            ]
          },
          "metadata": {},
          "execution_count": 62
        }
      ]
    },
    {
      "cell_type": "code",
      "source": [
        "### MAE\n",
        "error = []\n",
        "y_test = np.ravel(y_test)\n",
        "for i in range(len(pred)):\n",
        "  error.append(sqrt((pred[i] - y_test[i])**2))\n",
        "sum(error)/len(y_test)"
      ],
      "metadata": {
        "colab": {
          "base_uri": "https://localhost:8080/"
        },
        "id": "MNB7eq0HJh1I",
        "outputId": "c9dddffb-c9d6-4484-d85c-a863cc0f15f1"
      },
      "execution_count": 63,
      "outputs": [
        {
          "output_type": "execute_result",
          "data": {
            "text/plain": [
              "3.4335558761305114"
            ]
          },
          "metadata": {},
          "execution_count": 63
        }
      ]
    },
    {
      "cell_type": "code",
      "source": [
        "### R^2\n",
        "r2_score(y_test, pred)"
      ],
      "metadata": {
        "colab": {
          "base_uri": "https://localhost:8080/"
        },
        "id": "uttAUVGFcjTd",
        "outputId": "870ba1ca-0c76-4970-8084-c6bd947fd22d"
      },
      "execution_count": 64,
      "outputs": [
        {
          "output_type": "execute_result",
          "data": {
            "text/plain": [
              "0.2539177832695271"
            ]
          },
          "metadata": {},
          "execution_count": 64
        }
      ]
    },
    {
      "cell_type": "code",
      "source": [
        "from sklearn.model_selection import GridSearchCV\n",
        "\n",
        "grid_params = [\n",
        "               {\"Model__hidden_layer_sizes\": [(4, ), (4, 2), (8, ), (8, 2)],\n",
        "                \"Model__activation\": [\"relu\", \"logistic\"],\n",
        "                \"Model__learning_rate\": [\"constant\", \"adaptive\"],\n",
        "                \"Model__learning_rate_init\": [0.01, 0.001],\n",
        "                \"Model__max_iter\": [200, 400]}\n",
        "]"
      ],
      "metadata": {
        "id": "4ECoO2QQJx0m"
      },
      "execution_count": 71,
      "outputs": []
    },
    {
      "cell_type": "code",
      "source": [
        "grid_search = GridSearchCV(pipeline, grid_params, cv = 10, verbose = True, n_jobs = -1)\n",
        "grid_search.fit(x_train, y_train)\n",
        "grid_search.best_params_"
      ],
      "metadata": {
        "colab": {
          "base_uri": "https://localhost:8080/"
        },
        "id": "n-_T31eBNSJb",
        "outputId": "43e76d24-2a3e-43e1-91fd-85aa27a44597"
      },
      "execution_count": 72,
      "outputs": [
        {
          "output_type": "stream",
          "name": "stdout",
          "text": [
            "Fitting 10 folds for each of 64 candidates, totalling 640 fits\n"
          ]
        },
        {
          "output_type": "execute_result",
          "data": {
            "text/plain": [
              "{'Model__activation': 'logistic',\n",
              " 'Model__hidden_layer_sizes': (4, 2),\n",
              " 'Model__learning_rate': 'adaptive',\n",
              " 'Model__learning_rate_init': 0.001,\n",
              " 'Model__max_iter': 400}"
            ]
          },
          "metadata": {},
          "execution_count": 72
        }
      ]
    },
    {
      "cell_type": "code",
      "source": [
        "grid_search.best_params_[\"Model__hidden_layer_sizes\"]"
      ],
      "metadata": {
        "colab": {
          "base_uri": "https://localhost:8080/"
        },
        "id": "yyJnY8DwSxeS",
        "outputId": "92e65c27-7a8f-445e-a5a3-fe88b9c84494"
      },
      "execution_count": 73,
      "outputs": [
        {
          "output_type": "execute_result",
          "data": {
            "text/plain": [
              "(4, 2)"
            ]
          },
          "metadata": {},
          "execution_count": 73
        }
      ]
    },
    {
      "cell_type": "code",
      "source": [
        "pipeline_tuned = Pipeline(steps = [(\"preproc\", preproc), (\"Model\", MLPRegressor(activation = grid_search.best_params_[\"Model__activation\"],\n",
        "                                                                                hidden_layer_sizes = grid_search.best_params_[\"Model__hidden_layer_sizes\"],\n",
        "                                                                                learning_rate = grid_search.best_params_[\"Model__learning_rate\"],\n",
        "                                                                                learning_rate_init=grid_search.best_params_[\"Model__learning_rate_init\"],\n",
        "                                                                                max_iter = grid_search.best_params_[\"Model__max_iter\"]))])"
      ],
      "metadata": {
        "id": "pSNbnasWSi4i"
      },
      "execution_count": 74,
      "outputs": []
    },
    {
      "cell_type": "code",
      "source": [
        "pipeline_tuned.fit(x_train, y_train)\n",
        "pred = pipeline_tuned.predict(x_test)"
      ],
      "metadata": {
        "id": "lYod1L-_TOBU"
      },
      "execution_count": 75,
      "outputs": []
    },
    {
      "cell_type": "code",
      "source": [
        "### MSE\n",
        "from math import sqrt\n",
        "error = []\n",
        "y_test = np.ravel(y_test)\n",
        "for i in range(len(pred)):\n",
        "  error.append((pred[i] - y_test[i])**2)\n",
        "sum(error)/len(y_test)"
      ],
      "metadata": {
        "colab": {
          "base_uri": "https://localhost:8080/"
        },
        "id": "qs0JAc4aTYmi",
        "outputId": "01d47866-8a8e-48b7-d858-375e656786a2"
      },
      "execution_count": 76,
      "outputs": [
        {
          "output_type": "execute_result",
          "data": {
            "text/plain": [
              "20.270683963178943"
            ]
          },
          "metadata": {},
          "execution_count": 76
        }
      ]
    },
    {
      "cell_type": "code",
      "source": [
        "### MAE\n",
        "error = []\n",
        "y_test = np.ravel(y_test)\n",
        "for i in range(len(pred)):\n",
        "  error.append(sqrt((pred[i] - y_test[i])**2))\n",
        "sum(error)/len(y_test)"
      ],
      "metadata": {
        "colab": {
          "base_uri": "https://localhost:8080/"
        },
        "id": "fBOQstaPTfxO",
        "outputId": "0235486e-25cf-4c87-b71e-2f691166ce86"
      },
      "execution_count": 77,
      "outputs": [
        {
          "output_type": "execute_result",
          "data": {
            "text/plain": [
              "3.434622175205162"
            ]
          },
          "metadata": {},
          "execution_count": 77
        }
      ]
    },
    {
      "cell_type": "code",
      "source": [
        "r2_score(y_test, pred)"
      ],
      "metadata": {
        "colab": {
          "base_uri": "https://localhost:8080/"
        },
        "id": "rRrPXW20rKYi",
        "outputId": "decea6d1-48e3-4d2e-edc8-93906ecaffc9"
      },
      "execution_count": 78,
      "outputs": [
        {
          "output_type": "execute_result",
          "data": {
            "text/plain": [
              "0.258678890645474"
            ]
          },
          "metadata": {},
          "execution_count": 78
        }
      ]
    }
  ]
}